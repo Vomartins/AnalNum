{
 "cells": [
  {
   "cell_type": "code",
   "execution_count": 1,
   "metadata": {},
   "outputs": [],
   "source": [
    "import numpy as np\n",
    "from LinSolve import LinSolve\n",
    "from Vetor import Vetor, Dot\n",
    "from Matriz import Matriz\n",
    "from Fatoracao import Fat"
   ]
  },
  {
   "cell_type": "code",
   "execution_count": 2,
   "metadata": {},
   "outputs": [
    {
     "name": "stdout",
     "output_type": "stream",
     "text": [
      "[[ 0.85714286 -0.50160492  0.11704115]\n",
      " [ 0.42857143  0.56848557 -0.70224688]\n",
      " [ 0.28571429  0.65208639  0.70224688]]\n",
      "[[1.16666667 0.64285714 0.45      ]\n",
      " [0.         0.10171433 0.10533703]\n",
      " [0.         0.         0.00390137]]\n",
      "\n",
      "\n",
      "[[ 0.85714286 -0.50160492  0.11704115]\n",
      " [ 0.42857143  0.56848557 -0.70224688]\n",
      " [ 0.28571429  0.65208639  0.70224688]]\n",
      "[[ 1.16666667e+00  6.42857143e-01  4.50000000e-01]\n",
      " [ 0.00000000e+00  1.01714330e-01  1.05337032e-01]\n",
      " [ 0.00000000e+00 -6.93889390e-18  3.90137157e-03]]\n",
      "\n",
      "\n",
      "[[1.         0.5        0.33333333]\n",
      " [0.5        0.33333333 0.25      ]\n",
      " [0.33333333 0.25       0.2       ]]\n",
      "[[1.         0.5        0.33333333]\n",
      " [0.5        0.33333333 0.25      ]\n",
      " [0.33333333 0.25       0.2       ]]\n",
      "[[1.         0.5        0.33333333]\n",
      " [0.5        0.33333333 0.25      ]\n",
      " [0.33333333 0.25       0.2       ]]\n"
     ]
    }
   ],
   "source": [
    "n = 3\n",
    "\n",
    "H = Matriz(np.fromfunction(lambda i, j: 1/(i+j+1), (n,n), dtype=int))\n",
    "I = np.identity(n)\n",
    "#Inicialização do objeto Fat(), a partir dele podemos calcular as três fatorações da matriz de Hilbert.\n",
    "A = Fat(H.matriz)\n",
    "\n",
    "#Cálculo das fatorações a partir do objeto A e inicialização dos objetos Matriz com as fatorações obtidas.\n",
    "R = Matriz(A.cholesky()) #Cholesky\n",
    "q1, r1 = A.GS() #QR com Gram-Schmidt\n",
    "Q1 = Matriz(q1)\n",
    "R1 = Matriz(r1)\n",
    "q2, r2 = A.rot() #QR rotação\n",
    "Q2 = Matriz(q2)\n",
    "R2 = Matriz(r2)\n",
    "\n",
    "print(Q1.matriz)\n",
    "print(R1.matriz)\n",
    "print(\"\\n\")\n",
    "print(Q2.matriz)\n",
    "print(R2.matriz)\n",
    "print(\"\\n\")\n",
    "\n",
    "print(np.dot(R.matriz.transpose(), R.matriz))\n",
    "print(np.dot(Q1.matriz, R1.matriz))\n",
    "print(np.dot(Q2.matriz, R2.matriz))"
   ]
  },
  {
   "cell_type": "code",
   "execution_count": 3,
   "metadata": {},
   "outputs": [
    {
     "name": "stdout",
     "output_type": "stream",
     "text": [
      "[[   9.  -36.   30.]\n",
      " [ -36.  192. -180.]\n",
      " [  30. -180.  180.]]\n",
      "[[ 1.00000000e+00 -7.10542736e-15  7.10542736e-15]\n",
      " [ 8.88178420e-16  1.00000000e+00  7.10542736e-15]\n",
      " [ 8.88178420e-16  0.00000000e+00  1.00000000e+00]]\n"
     ]
    }
   ],
   "source": [
    "#Resolução do sistema HX=I com cholesky.\n",
    "Y = np.zeros((1, n))\n",
    "for i in range(n):\n",
    "    y = LinSolve(R.matriz.transpose(), I[:, i]).Solve()\n",
    "    Y = np.vstack((Y, y))\n",
    "Y = np.delete(Y, 0, 0)\n",
    "\n",
    "X = np.zeros((1, n))\n",
    "for i in range(n):\n",
    "    x = LinSolve(R.matriz, Y[i, :]).Solve()\n",
    "    X = np.vstack((X, x))\n",
    "X = np.delete(X, 0, 0)\n",
    "If = np.dot(H.matriz, X)\n",
    "print(X)\n",
    "print(If)"
   ]
  },
  {
   "cell_type": "code",
   "execution_count": 4,
   "metadata": {},
   "outputs": [
    {
     "ename": "AttributeError",
     "evalue": "'Matriz' object has no attribute '_Matriz__A'",
     "output_type": "error",
     "traceback": [
      "\u001b[1;31m---------------------------------------------------------------------------\u001b[0m",
      "\u001b[1;31mAttributeError\u001b[0m                            Traceback (most recent call last)",
      "\u001b[1;32m<ipython-input-4-599413cd3006>\u001b[0m in \u001b[0;36m<module>\u001b[1;34m\u001b[0m\n\u001b[1;32m----> 1\u001b[1;33m \u001b[0mcond\u001b[0m \u001b[1;33m=\u001b[0m \u001b[0mH\u001b[0m\u001b[1;33m.\u001b[0m\u001b[0mcond\u001b[0m\u001b[1;33m(\u001b[0m\u001b[0mX\u001b[0m\u001b[1;33m)\u001b[0m\u001b[1;33m\u001b[0m\u001b[1;33m\u001b[0m\u001b[0m\n\u001b[0m\u001b[0;32m      2\u001b[0m \u001b[0mprint\u001b[0m\u001b[1;33m(\u001b[0m\u001b[0mcond\u001b[0m\u001b[1;33m)\u001b[0m\u001b[1;33m\u001b[0m\u001b[1;33m\u001b[0m\u001b[0m\n",
      "\u001b[1;32m~\\Documents\\Unicamp\\#5 semestre\\MS512\\Projeto\\Programação\\AnalNum\\Matriz.py\u001b[0m in \u001b[0;36mcond\u001b[1;34m(self, B)\u001b[0m\n\u001b[0;32m     35\u001b[0m     \u001b[1;32mdef\u001b[0m \u001b[0mcond\u001b[0m\u001b[1;33m(\u001b[0m\u001b[0mself\u001b[0m\u001b[1;33m,\u001b[0m \u001b[0mB\u001b[0m\u001b[1;33m)\u001b[0m\u001b[1;33m:\u001b[0m\u001b[1;33m\u001b[0m\u001b[1;33m\u001b[0m\u001b[0m\n\u001b[0;32m     36\u001b[0m         \u001b[0minvA\u001b[0m \u001b[1;33m=\u001b[0m \u001b[0mMatriz\u001b[0m\u001b[1;33m(\u001b[0m\u001b[0mB\u001b[0m\u001b[1;33m)\u001b[0m\u001b[1;33m\u001b[0m\u001b[1;33m\u001b[0m\u001b[0m\n\u001b[1;32m---> 37\u001b[1;33m         \u001b[1;32mreturn\u001b[0m \u001b[0mself\u001b[0m\u001b[1;33m.\u001b[0m\u001b[0m__A\u001b[0m\u001b[1;33m.\u001b[0m\u001b[0mnorma2\u001b[0m\u001b[1;33m(\u001b[0m\u001b[1;33m)\u001b[0m\u001b[1;33m*\u001b[0m\u001b[0mB\u001b[0m\u001b[1;33m.\u001b[0m\u001b[0mnorma2\u001b[0m\u001b[1;33m(\u001b[0m\u001b[1;33m)\u001b[0m\u001b[1;33m\u001b[0m\u001b[1;33m\u001b[0m\u001b[0m\n\u001b[0m\u001b[0;32m     38\u001b[0m \u001b[1;33m\u001b[0m\u001b[0m\n\u001b[0;32m     39\u001b[0m     \u001b[1;31m#Estimative inferior para o número de condicionamento pela norma2(k2)\u001b[0m\u001b[1;33m\u001b[0m\u001b[1;33m\u001b[0m\u001b[1;33m\u001b[0m\u001b[0m\n",
      "\u001b[1;31mAttributeError\u001b[0m: 'Matriz' object has no attribute '_Matriz__A'"
     ]
    }
   ],
   "source": [
    "cond = H.cond(X)\n",
    "print(cond)"
   ]
  },
  {
   "cell_type": "code",
   "execution_count": null,
   "metadata": {},
   "outputs": [],
   "source": [
    "#Resolução do sistema HX=I com Gram-Schmidt.\n",
    "X = np.zeros((1,n))\n",
    "for i in range(n):\n",
    "    x = LinSolve(R1.matriz, Q1.transpose[:, i]).Solve()\n",
    "    X = np.vstack((X,x))\n",
    "X = np.delete(X, 0, 0)\n",
    "If = np.dot(H, X)\n",
    "\n",
    "print(X)\n",
    "print(If)"
   ]
  },
  {
   "cell_type": "code",
   "execution_count": null,
   "metadata": {},
   "outputs": [],
   "source": [
    "#Resolução do sistema HX=I com rotações.\n",
    "X = np.zeros((1,n))\n",
    "for i in range(n):\n",
    "    x = LinSolve(R2.matriz, Q2.transpose[:, i]).Solve()\n",
    "    X = np.vstack((X,x))\n",
    "X = np.delete(X, 0, 0)\n",
    "If = np.dot(H, X)\n",
    "\n",
    "print(X)\n",
    "print(If)"
   ]
  },
  {
   "cell_type": "code",
   "execution_count": null,
   "metadata": {},
   "outputs": [],
   "source": [
    "x1 = np.linalg.solve(R1.matriz, Q1.transpose[:, 0])\n",
    "x2 = np.linalg.solve(R1.matriz, Q1.transpose[:, 1])\n",
    "x3 = np.linalg.solve(R1.matriz, Q1.transpose[:, 2])\n",
    "\n",
    "X = np.array([x1, x2, x3]).transpose()\n",
    "If = np.dot(H, X)\n",
    "\n",
    "print(X)\n",
    "print(If)"
   ]
  }
 ],
 "metadata": {
  "kernelspec": {
   "display_name": "Python 3",
   "language": "python",
   "name": "python3"
  },
  "language_info": {
   "codemirror_mode": {
    "name": "ipython",
    "version": 3
   },
   "file_extension": ".py",
   "mimetype": "text/x-python",
   "name": "python",
   "nbconvert_exporter": "python",
   "pygments_lexer": "ipython3",
   "version": "3.7.3"
  }
 },
 "nbformat": 4,
 "nbformat_minor": 2
}
