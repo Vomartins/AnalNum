{
 "cells": [
  {
   "cell_type": "code",
   "execution_count": 1,
   "metadata": {},
   "outputs": [],
   "source": [
    "import numpy as np\n",
    "from LinSolve import LinSolve\n",
    "from Vetor import Vetor, Dot\n",
    "from Matriz import Matriz\n",
    "from cholesky import Cholesky\n",
    "from QR import QR"
   ]
  },
  {
   "cell_type": "code",
   "execution_count": 2,
   "metadata": {},
   "outputs": [
    {
     "name": "stdout",
     "output_type": "stream",
     "text": [
      "[[1.         0.5        0.33333333]\n",
      " [0.5        0.33333333 0.25      ]\n",
      " [0.33333333 0.25       0.2       ]]\n"
     ]
    }
   ],
   "source": [
    "b = np.array([[1],[5],[3]])\n",
    "B = Vetor(b)\n",
    "\n",
    "H = np.fromfunction(lambda i, j: 1/(i+j+1), (3,3), dtype=int)\n",
    "A, B= QR(H).GS()\n",
    "Q = Matriz(A)\n",
    "R = Matriz(B)\n",
    "\n",
    "print(np.dot(Q.matriz, R.matriz))"
   ]
  },
  {
   "cell_type": "code",
   "execution_count": 4,
   "metadata": {},
   "outputs": [
    {
     "name": "stdout",
     "output_type": "stream",
     "text": [
      "[[1.         0.5        0.33333333]\n",
      " [0.5        0.33333333 0.25      ]\n",
      " [0.33333333 0.25       0.2       ]]\n"
     ]
    }
   ],
   "source": [
    "b = np.array([[1],[5],[3]])\n",
    "B = Vetor(b)\n",
    "\n",
    "H = np.fromfunction(lambda i, j: 1/(i+j+1), (3,3), dtype=int)\n",
    "A, B= QR(H).rot()\n",
    "Q = Matriz(A)\n",
    "R = Matriz(B)\n",
    "\n",
    "print(np.dot(Q.matriz, R.matriz))"
   ]
  },
  {
   "cell_type": "code",
   "execution_count": null,
   "metadata": {},
   "outputs": [],
   "source": []
  }
 ],
 "metadata": {
  "kernelspec": {
   "display_name": "Python 3",
   "language": "python",
   "name": "python3"
  },
  "language_info": {
   "codemirror_mode": {
    "name": "ipython",
    "version": 3
   },
   "file_extension": ".py",
   "mimetype": "text/x-python",
   "name": "python",
   "nbconvert_exporter": "python",
   "pygments_lexer": "ipython3",
   "version": "3.7.3"
  }
 },
 "nbformat": 4,
 "nbformat_minor": 2
}
