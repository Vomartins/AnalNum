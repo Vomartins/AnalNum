{
 "cells": [
  {
   "cell_type": "code",
   "execution_count": null,
   "metadata": {},
   "outputs": [],
   "source": [
    "import numpy as np\n",
    "from LinSolve import LinSolve\n",
    "from Vetor import Vetor, Dot\n",
    "from Matriz import Matriz\n",
    "from Fatoracao import Fat"
   ]
  },
  {
   "cell_type": "code",
   "execution_count": null,
   "metadata": {},
   "outputs": [],
   "source": [
    "n = 3\n",
    "\n",
    "H = np.fromfunction(lambda i, j: 1/(i+j+1), (n,n), dtype=int)\n",
    "I = np.identity(n)\n",
    "#Inicialização do objeto Fat(), a partir dele podemos calcular as três fatorações da matriz de Hilbert.\n",
    "A = Fat(H)\n",
    "\n",
    "#Cálculo das fatorações a partir do objeto A e inicialização dos objetos Matriz com as fatorações obtidas.\n",
    "R = Matriz(A.cholesky()) #Cholesky\n",
    "q1, r1 = A.GS() #QR com Gram-Schmidt\n",
    "Q1 = Matriz(q1)\n",
    "R1 = Matriz(r1)\n",
    "q2, r2 = A.rot() #QR rotação\n",
    "Q2 = Matriz(q2)\n",
    "R2 = Matriz(r2)\n",
    "\n",
    "print(np.dot(R.matriz.transpose(), R.matriz))\n",
    "print(np.dot(Q1.matriz, R1.matriz))\n",
    "print(np.dot(Q2.matriz, R2.matriz))"
   ]
  },
  {
   "cell_type": "code",
   "execution_count": null,
   "metadata": {},
   "outputs": [],
   "source": [
    "#Resolução do sistema HX=I com cholesky.\n",
    "y1 = LinSolve(R.matriz.transpose(), I[:, 0]).triinf()\n",
    "y2 = LinSolve(R.matriz.transpose(), I[:, 1]).triinf()\n",
    "y3 = LinSolve(R.matriz.transpose(), I[:, 2]).triinf()\n",
    "\n",
    "Y = np.array([y1, y2, y3])\n",
    "\n",
    "x1 = LinSolve(R.matriz, Y[0, :]).trisup()\n",
    "x2 = LinSolve(R.matriz, Y[1, :]).trisup()\n",
    "x3 = LinSolve(R.matriz, Y[2, :]).trisup()\n",
    "\n",
    "X = np.array([x1, x2, x3]).transpose()\n",
    "If = np.dot(H, X)\n",
    "\n",
    "print(X)\n",
    "print(If)"
   ]
  },
  {
   "cell_type": "code",
   "execution_count": null,
   "metadata": {},
   "outputs": [],
   "source": [
    "#Resolução do sistema HX=I com Gram-Schmidt.\n",
    "x1 = LinSolve(R1.matriz, Q1.transpose[:, 0]).trisup()\n",
    "x2 = LinSolve(R1.matriz, Q1.transpose[:, 1]).trisup()\n",
    "x3 = LinSolve(R1.matriz, Q1.transpose[:, 2]).trisup()\n",
    "\n",
    "X = np.array([x1, x2, x3]).transpose()\n",
    "If = np.dot(H, X)\n",
    "\n",
    "print(X)\n",
    "print(If)"
   ]
  },
  {
   "cell_type": "code",
   "execution_count": null,
   "metadata": {},
   "outputs": [],
   "source": [
    "#Resolução do sistema HX=I com rotações.\n",
    "x1 = LinSolve(R2.matriz, Q2.transpose[:, 0]).trisup()\n",
    "x2 = LinSolve(R2.matriz, Q2.transpose[:, 1]).trisup()\n",
    "x3 = LinSolve(R2.matriz, Q2.transpose[:, 2]).trisup()\n",
    "\n",
    "X = np.array([x1, x2, x3]).transpose()\n",
    "If = np.dot(H, X)\n",
    "\n",
    "print(X)\n",
    "print(If)"
   ]
  },
  {
   "cell_type": "code",
   "execution_count": null,
   "metadata": {},
   "outputs": [],
   "source": [
    "x1 = np.linalg.solve(R1.matriz, Q1.transpose[:, 0])\n",
    "x2 = np.linalg.solve(R1.matriz, Q1.transpose[:, 1])\n",
    "x3 = np.linalg.solve(R1.matriz, Q1.transpose[:, 2])\n",
    "\n",
    "X = np.array([x1, x2, x3]).transpose()\n",
    "If = np.dot(H, X)\n",
    "\n",
    "print(X)\n",
    "print(If)"
   ]
  },
  {
   "cell_type": "code",
   "execution_count": null,
   "metadata": {},
   "outputs": [],
   "source": []
  }
 ],
 "metadata": {
  "kernelspec": {
   "display_name": "Python 3",
   "language": "python",
   "name": "python3"
  },
  "language_info": {
   "codemirror_mode": {
    "name": "ipython",
    "version": 3
   },
   "file_extension": ".py",
   "mimetype": "text/x-python",
   "name": "python",
   "nbconvert_exporter": "python",
   "pygments_lexer": "ipython3",
   "version": "3.7.3"
  }
 },
 "nbformat": 4,
 "nbformat_minor": 2
}
