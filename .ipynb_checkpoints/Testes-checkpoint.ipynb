{
 "cells": [
  {
   "cell_type": "code",
   "execution_count": 1,
   "metadata": {},
   "outputs": [],
   "source": [
    "import numpy as np\n",
    "from LinSolve import LinSolve\n",
    "from Vetor import Vetor\n",
    "from Matriz import Matriz\n",
    "from cholesky import Cholesky"
   ]
  },
  {
   "cell_type": "code",
   "execution_count": 2,
   "metadata": {},
   "outputs": [
    {
     "name": "stdout",
     "output_type": "stream",
     "text": [
      "[[  1.        ]\n",
      " [ 15.58845727]\n",
      " [-24.59674775]]\n",
      "[[ -81.]\n",
      " [ 384.]\n",
      " [-330.]]\n",
      "[[0.00000000e+00]\n",
      " [0.00000000e+00]\n",
      " [3.55271368e-15]]\n"
     ]
    }
   ],
   "source": [
    "b = np.array([[1],[5],[3]])\n",
    "B = Vetor(b)\n",
    "\n",
    "H = np.fromfunction(lambda i, j: 1/(i+j+1), (3,3), dtype=int)\n",
    "A = Cholesky(H).cholesky()\n",
    "R = Matriz(A)\n",
    "\n",
    "y1 = LinSolve(R.transpose, B.vetor).Solve()\n",
    "\n",
    "x1 = LinSolve(R.matriz, y1).Solve()\n",
    "\n",
    "print(y1)\n",
    "print(x1)\n",
    "\n",
    "a = np.dot(R.matriz, x1) - y1\n",
    "print(a)"
   ]
  }
 ],
 "metadata": {
  "kernelspec": {
   "display_name": "Python 3",
   "language": "python",
   "name": "python3"
  },
  "language_info": {
   "codemirror_mode": {
    "name": "ipython",
    "version": 3
   },
   "file_extension": ".py",
   "mimetype": "text/x-python",
   "name": "python",
   "nbconvert_exporter": "python",
   "pygments_lexer": "ipython3",
   "version": "3.7.3"
  }
 },
 "nbformat": 4,
 "nbformat_minor": 2
}
