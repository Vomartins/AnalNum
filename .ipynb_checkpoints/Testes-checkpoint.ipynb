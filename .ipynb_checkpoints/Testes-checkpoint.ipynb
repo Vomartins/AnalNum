{
 "cells": [
  {
   "cell_type": "code",
   "execution_count": 1,
   "metadata": {},
   "outputs": [],
   "source": [
    "import numpy as np\n",
    "from LinSolve import LinSolve\n",
    "from Norma import Norma"
   ]
  },
  {
   "cell_type": "code",
   "execution_count": null,
   "metadata": {},
   "outputs": [],
   "source": [
    "#Matriz de Hilbert\n",
    "H = np.fromfunction(lambda i, j: 1/(i+j+1), (3, 3), dtype=int)\n",
    "print(H)"
   ]
  },
  {
   "cell_type": "code",
   "execution_count": null,
   "metadata": {},
   "outputs": [],
   "source": [
    "A = np.array([[1, 2, 2, 2], [0, 1, 2, 2], [0, 0, 1, 2], [0, 0, 0, 1]])\n",
    "b = np.array([[1], [2], [3], [4]])\n",
    "x = np.zeros((4, 1))\n",
    "\n",
    "#Solução direta do sistem linear com matriz A triangular superior\n",
    "def trisup(A, x, b):\n",
    "    s = 0\n",
    "    for j in range(np.shape(A)[0]):\n",
    "        x[np.shape(A)[0]-(j+1), 0] = (b[np.shape(A)[0]-(j+1),0] - s)/ A[np.shape(A)[0]-(j+1),np.shape(A)[0]-(j+1)]\n",
    "        s = 0\n",
    "        if j < np.shape(A)[0]-1 :\n",
    "            for i in range(j+1):\n",
    "                s = s + x[np.shape(A)[0]-(i+1), 0]*A[np.shape(A)[0]-(i+2), np.shape(A)[0]-(i+1)]\n",
    "    return x\n",
    "\n",
    "print(trisup(A, x, b))\n",
    "print(np.linalg.solve(A, b))\n",
    "\n",
    "if (np.dot(A, trisup(A, x, b))-b == np.zeros((4,1))).all():\n",
    "    print(\"ok\")"
   ]
  },
  {
   "cell_type": "code",
   "execution_count": null,
   "metadata": {},
   "outputs": [],
   "source": [
    "A = np.array([[1, 0, 0, 0], [2, 1, 0, 0], [2, 2, 1, 0], [2, 2, 2, 1]])\n",
    "b = np.array([[1], [2], [3], [4]])\n",
    "x = np.zeros((4, 1))\n",
    "\n",
    "#Solução direta do sistem linear com matriz A triangular inferior\n",
    "def triinf(A, x, b):\n",
    "    s = 0\n",
    "    for j in range(np.shape(A)[0]):\n",
    "        x[j, 0] = (b[j,0] - s)/ A[j,j]\n",
    "        s = 0\n",
    "        if j < np.shape(A)[0]-1:\n",
    "            for i in range(j+1):\n",
    "                s = s + x[i, 0]*A[j+1, i]\n",
    "    return x\n",
    "\n",
    "print(triinf(A, x, b))\n",
    "print(np.linalg.solve(A, b))\n",
    "if np.dot(A, triinf(A, x, b)-b == np.zeros((4,1)):\n",
    "          print(\"ok\")"
   ]
  },
  {
   "cell_type": "code",
   "execution_count": null,
   "metadata": {},
   "outputs": [],
   "source": [
    "A = np.array([[1, 2, 2, 2], [0, 1, 2, 2], [0, 0, 1, 2], [0, 0, 0, 1]])\n",
    "B = np.array([[1, 0, 0, 0], [2, 1, 0, 0], [2, 2, 1, 0], [2, 2, 2, 1]])\n",
    "b = np.array([[1], [2], [3], [4]])\n",
    "x = np.zeros((4, 1))\n",
    "\n",
    "LinSystem = LinSolve(H,b)"
   ]
  },
  {
   "cell_type": "code",
   "execution_count": null,
   "metadata": {},
   "outputs": [],
   "source": [
    "LinSystem.Solve()"
   ]
  },
  {
   "cell_type": "code",
   "execution_count": null,
   "metadata": {},
   "outputs": [],
   "source": [
    "#norma 1\n",
    "x = np.array([[1],[5],[3],[4]])\n",
    "n = 0 \n",
    "mod_x = np.abs(x)\n",
    "for i in range(np.shape(x)[0]):\n",
    "    n = n + mod_x[i]\n",
    "print(n)"
   ]
  },
  {
   "cell_type": "code",
   "execution_count": null,
   "metadata": {},
   "outputs": [],
   "source": [
    "#norma 2\n",
    "x = np.array([[1],[1],[1],[1]])\n",
    "n = 0 \n",
    "for i in range(np.shape(x)[0]):\n",
    "    n = n + x[i]**2\n",
    "n = n**(1/2)\n",
    "print(n)"
   ]
  },
  {
   "cell_type": "code",
   "execution_count": null,
   "metadata": {},
   "outputs": [],
   "source": [
    "#norma 1 in function\n",
    "x = np.array([[1],[5],[3],[4]])\n",
    "def norma1(x):\n",
    "    n = 0 \n",
    "    mod_x = np.abs(x)\n",
    "    for i in range(np.shape(x)[0]):\n",
    "        n = n + mod_x[i]\n",
    "    return n\n",
    "print(norma1(x))"
   ]
  },
  {
   "cell_type": "code",
   "execution_count": null,
   "metadata": {},
   "outputs": [],
   "source": [
    "#norma 2\n",
    "x = np.array([[1],[1],[1],[1]])\n",
    "def norma2(x):\n",
    "    n = 0 \n",
    "    for i in range(np.shape(x)[0]):\n",
    "        n = n + x[i]**2\n",
    "    n = n**(1/2)\n",
    "    return n\n",
    "print(norma2(x))"
   ]
  },
  {
   "cell_type": "code",
   "execution_count": 2,
   "metadata": {},
   "outputs": [],
   "source": [
    "x = np.array([[1],[5],[3],[4]])\n",
    "norma = Norma(x)"
   ]
  },
  {
   "cell_type": "code",
   "execution_count": 3,
   "metadata": {},
   "outputs": [
    {
     "data": {
      "text/plain": [
       "array([13])"
      ]
     },
     "execution_count": 3,
     "metadata": {},
     "output_type": "execute_result"
    }
   ],
   "source": [
    "norma.norma1()"
   ]
  },
  {
   "cell_type": "code",
   "execution_count": 4,
   "metadata": {},
   "outputs": [
    {
     "data": {
      "text/plain": [
       "array([7.14142843])"
      ]
     },
     "execution_count": 4,
     "metadata": {},
     "output_type": "execute_result"
    }
   ],
   "source": [
    "norma.norma2()"
   ]
  },
  {
   "cell_type": "code",
   "execution_count": null,
   "metadata": {},
   "outputs": [],
   "source": []
  }
 ],
 "metadata": {
  "kernelspec": {
   "display_name": "Python 3",
   "language": "python",
   "name": "python3"
  },
  "language_info": {
   "codemirror_mode": {
    "name": "ipython",
    "version": 3
   },
   "file_extension": ".py",
   "mimetype": "text/x-python",
   "name": "python",
   "nbconvert_exporter": "python",
   "pygments_lexer": "ipython3",
   "version": "3.7.3"
  }
 },
 "nbformat": 4,
 "nbformat_minor": 2
}
